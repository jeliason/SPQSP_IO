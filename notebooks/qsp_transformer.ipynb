{
 "cells": [
  {
   "cell_type": "code",
   "execution_count": 1,
   "metadata": {},
   "outputs": [],
   "source": [
    "import os\n",
    "# ensure the backend is set\n",
    "import argparse\n",
    "import torch\n",
    "import keras\n",
    "from torch.utils.data import DataLoader"
   ]
  },
  {
   "cell_type": "code",
   "execution_count": 2,
   "metadata": {},
   "outputs": [],
   "source": [
    "os.environ[\"KERAS_BACKEND\"] = \"torch\"\n",
    "\n",
    "import bayesflow as bf\n",
    "from dl_src.load_data import data_loader\n",
    "from keras.src.backend.common import global_state"
   ]
  },
  {
   "cell_type": "code",
   "execution_count": 3,
   "metadata": {},
   "outputs": [],
   "source": [
    "%load_ext autoreload\n",
    "%autoreload 2"
   ]
  },
  {
   "cell_type": "code",
   "execution_count": 14,
   "metadata": {},
   "outputs": [],
   "source": [
    "train, validation, inference_variables = data_loader()"
   ]
  },
  {
   "cell_type": "code",
   "execution_count": 11,
   "metadata": {},
   "outputs": [],
   "source": [
    "\n",
    "summary_net = bf.networks.TimeSeriesTransformer(summary_dim=32,\n",
    "\t\t\t\t\t\t\t\t\t\t\t\t\t\t\t\t\t\t\t\t\t\t\t\ttime_axis=-1,\n",
    "\t\t\t\t\t\t\t\t\t\t\t\t\t\t\t\t\t\t\t\t\t\t\t\ttime_embedding=\"time2vec\")\n",
    "\n",
    "inference_net = bf.networks.FlowMatching(\n",
    "\tintegrator = \"rk2\",\n",
    "\t\tsubnet_kwargs={\"residual\": True, \"dropout\": 0.0, \"widths\": (128, 128, 128, 128)}\n",
    ")\n",
    "\n",
    "# workflow = bf.BasicWorkflow(\n",
    "# \t\tadapter=bf.adapters.Adapter(),\n",
    "# \t\tinference_network=inference_net,\n",
    "# \t\tsummary_network=summary_net,\n",
    "# \t\tinference_variables=train.inference_variables\n",
    "# )\n",
    "\n",
    "# get num_batches from train_loader\n",
    "initial_learning_rate = 1e-3\n",
    "epochs = 10\n",
    "\t\t# Create optimizer\n",
    "scheduled_lr = keras.optimizers.schedules.CosineDecay(\n",
    "\t\tinitial_learning_rate=initial_learning_rate,\n",
    "\t\tdecay_steps=epochs*train.num_batches,\n",
    "\t\talpha=1e-8\n",
    ")\n",
    "optimizer = keras.optimizers.Adam(learning_rate=scheduled_lr)\n",
    "\n",
    "\n",
    "# Create approximator\n",
    "approximator = bf.ContinuousApproximator(\n",
    "\t\tsummary_network=summary_net,\n",
    "\t\tinference_network=inference_net,\n",
    "\t\tadapter=None\n",
    ")\n",
    "approximator.compile(optimizer=optimizer)\n"
   ]
  },
  {
   "cell_type": "code",
   "execution_count": null,
   "metadata": {},
   "outputs": [],
   "source": [
    "# Train and compute the average of last 5 validation losses\n",
    "history = approximator.fit(\n",
    "    epochs=epochs,\n",
    "    dataset=train,\n",
    "    validation_data=validation\n",
    ")"
   ]
  },
  {
   "cell_type": "code",
   "execution_count": null,
   "metadata": {},
   "outputs": [],
   "source": []
  }
 ],
 "metadata": {
  "kernelspec": {
   "display_name": "bayesflow",
   "language": "python",
   "name": "python3"
  },
  "language_info": {
   "codemirror_mode": {
    "name": "ipython",
    "version": 3
   },
   "file_extension": ".py",
   "mimetype": "text/x-python",
   "name": "python",
   "nbconvert_exporter": "python",
   "pygments_lexer": "ipython3",
   "version": "3.11.11"
  }
 },
 "nbformat": 4,
 "nbformat_minor": 2
}
